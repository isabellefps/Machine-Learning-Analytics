{
  "nbformat": 4,
  "nbformat_minor": 0,
  "metadata": {
    "colab": {
      "provenance": [],
      "toc_visible": true,
      "authorship_tag": "ABX9TyNo4m+XOPzd3pcPYjbWUxqR",
      "include_colab_link": true
    },
    "kernelspec": {
      "name": "python3",
      "display_name": "Python 3"
    },
    "language_info": {
      "name": "python"
    }
  },
  "cells": [
    {
      "cell_type": "markdown",
      "metadata": {
        "id": "view-in-github",
        "colab_type": "text"
      },
      "source": [
        "<a href=\"https://colab.research.google.com/github/isabellefps/Machine-Learning-Analytics/blob/main/MVP_Machine_Learning_%26_Analytics.ipynb\" target=\"_parent\"><img src=\"https://colab.research.google.com/assets/colab-badge.svg\" alt=\"Open In Colab\"/></a>"
      ]
    },
    {
      "cell_type": "markdown",
      "source": [
        "MVP - Machine Learning & Analytics\n",
        "##Aluna: Isabelle Fernandes Paixão da Silva\n",
        "\n",
        "###Pós-Graduação: Ciência de Dados e Analytics"
      ],
      "metadata": {
        "id": "TD0qxsPysVLq"
      }
    },
    {
      "cell_type": "markdown",
      "source": [
        "##1.0 Definição do Problema\n",
        "As doenças cardíacas são uma das principais causas de morte em todo o mundo, representando uma significativa preocupação de saúde pública. A capacidade de prever eficazmente as doenças cardíacas pode melhorar significativamente as estratégias de intervenção precoce e o gerenciamento personalizado dos pacientes, potencialmente salvando vidas.\n",
        "\n",
        "O objetivo desta análise é desenvolver um modelo de classificação para prever a presença de doenças cardíacas em indivíduos baseado em um conjunto de variáveis clínicas e demográficas. O modelo deve ser capaz de distinguir entre indivíduos com e sem doenças cardíacas (classificação binária).\n",
        "\n",
        "O dataset utilizado consiste em registros médicos de pacientes, incluindo informações demográficas, resultados de testes clínicos e dados sobre o estilo de vida. As variáveis incluem:\n",
        "\n",
        "* Idade: Idade do paciente.\n",
        "* Sexo: Gênero do paciente (masculino, feminino).\n",
        "* Tipo de Dor no Peito (ChestPainType): Diferentes tipos de dor no peito experimentadas, categorizadas como típica angina, angina atípica, dor não anginosa e assintomática.\n",
        "* Pressão Arterial em Repouso (RestingBP): Pressão sanguínea (em mmHg) ao repouso.\n",
        "* Colesterol: Nível de colesterol do paciente (mg/dL).\n",
        "* Glicose em Jejum (FastingBS): Se o paciente tinha glicose em jejum > 120 mg/dl (1 = sim; 0 = não).\n",
        "* Eletrocardiograma em Repouso (RestingECG): Resultados do ECG em repouso categorizados como normal, tendo anormalidades da onda ST-T, ou mostrando provável ou definitiva hipertrofia ventricular esquerda.\n",
        "* Frequência Cardíaca Máxima (MaxHR): Máxima frequência cardíaca alcançada durante o teste.\n",
        "* Angina Induzida por Exercício (ExerciseAngina): Se a angina foi induzida por exercício (sim ou não).\n",
        "* Depressão de ST Induzida por Exercício (Oldpeak): Depressão do segmento ST induzida por exercício em relação ao repouso.\n",
        "* Inclinação do Segmento ST Pós-Exercício (ST_Slope): A inclinação do segmento ST do pico do exercício (crescente, plano, ou descendente).\n",
        "* HeartDisease: A presença de doença cardíaca no paciente (0 = sem doença, 1 = com doença).\n",
        "\n",
        "Mais informações sobre o dataset: https://www.kaggle.com/datasets/fedesoriano/heart-failure-prediction"
      ],
      "metadata": {
        "id": "egbxiMS8vQec"
      }
    },
    {
      "cell_type": "markdown",
      "source": [
        "## 2.0 Importações necessárias"
      ],
      "metadata": {
        "id": "FAE9kIx3yGZX"
      }
    },
    {
      "cell_type": "code",
      "source": [
        "# configuração para não exibir os warnings\n",
        "import warnings\n",
        "warnings.filterwarnings(\"ignore\")\n",
        "\n",
        "# importações que podem ser necessárias\n",
        "import pandas as pd\n",
        "import numpy as np\n",
        "import matplotlib.pyplot as plt\n",
        "from sklearn.preprocessing import StandardScaler\n",
        "from sklearn.pipeline import make_pipeline\n",
        "from sklearn.preprocessing import MinMaxScaler\n",
        "from sklearn.decomposition import PCA\n",
        "from sklearn.model_selection import train_test_split\n",
        "from sklearn.model_selection import KFold\n",
        "from sklearn.model_selection import StratifiedKFold\n",
        "from sklearn.model_selection import cross_val_score\n",
        "from sklearn.model_selection import GridSearchCV\n",
        "from sklearn.metrics import accuracy_score, precision_score, recall_score, f1_score, classification_report\n",
        "from sklearn.pipeline import Pipeline\n",
        "from sklearn.linear_model import LogisticRegression\n",
        "from sklearn.tree import DecisionTreeClassifier\n",
        "from sklearn.neighbors import KNeighborsClassifier\n",
        "from sklearn.naive_bayes import GaussianNB\n",
        "from sklearn.svm import SVC\n",
        "from sklearn.ensemble import BaggingClassifier\n",
        "from sklearn.ensemble import RandomForestClassifier\n",
        "from sklearn.ensemble import ExtraTreesClassifier\n",
        "from sklearn.ensemble import VotingClassifier\n",
        "from sklearn.ensemble import AdaBoostClassifier\n",
        "from sklearn.ensemble import GradientBoostingClassifier"
      ],
      "metadata": {
        "id": "gqHVUTnfynlr"
      },
      "execution_count": 38,
      "outputs": []
    },
    {
      "cell_type": "markdown",
      "source": [
        "##3.0 Carga de Dados"
      ],
      "metadata": {
        "id": "79b0ijOAzZQp"
      }
    },
    {
      "cell_type": "code",
      "source": [
        "data = pd.read_csv ('https://raw.githubusercontent.com/isabellefps/Machine-Learning-Analytics/main/heart.csv')"
      ],
      "metadata": {
        "id": "9XEAmuxJn50c"
      },
      "execution_count": 39,
      "outputs": []
    },
    {
      "cell_type": "markdown",
      "source": [
        "##4.0 Análise Exploratória de Dados"
      ],
      "metadata": {
        "id": "FWOHHWwz0Snh"
      }
    },
    {
      "cell_type": "markdown",
      "source": [
        "###4.1 Primeiras linhas do dataset"
      ],
      "metadata": {
        "id": "EL8uuuFL2wBY"
      }
    },
    {
      "cell_type": "code",
      "source": [
        "# Verificar as primeiras linhas do Dataset\n",
        "print(data.head())"
      ],
      "metadata": {
        "colab": {
          "base_uri": "https://localhost:8080/"
        },
        "id": "dvx4kJ7u0Blr",
        "outputId": "e369086b-f751-4f9f-ee01-950ab57f22ff"
      },
      "execution_count": 40,
      "outputs": [
        {
          "output_type": "stream",
          "name": "stdout",
          "text": [
            "   Age Sex ChestPainType  RestingBP  Cholesterol  FastingBS RestingECG  MaxHR  \\\n",
            "0   40   M           ATA        140          289          0     Normal    172   \n",
            "1   49   F           NAP        160          180          0     Normal    156   \n",
            "2   37   M           ATA        130          283          0         ST     98   \n",
            "3   48   F           ASY        138          214          0     Normal    108   \n",
            "4   54   M           NAP        150          195          0     Normal    122   \n",
            "\n",
            "  ExerciseAngina  Oldpeak ST_Slope  HeartDisease  \n",
            "0              N      0.0       Up             0  \n",
            "1              N      1.0     Flat             1  \n",
            "2              N      0.0       Up             0  \n",
            "3              Y      1.5     Flat             1  \n",
            "4              N      0.0       Up             0  \n"
          ]
        }
      ]
    },
    {
      "cell_type": "markdown",
      "source": [
        "###4.2 Estatíticas descritivas"
      ],
      "metadata": {
        "id": "ds081L_A3LQh"
      }
    },
    {
      "cell_type": "code",
      "source": [
        "# Estatísticas descritivas\n",
        "print(data.describe())"
      ],
      "metadata": {
        "colab": {
          "base_uri": "https://localhost:8080/"
        },
        "id": "3_7jBlHm3Sx-",
        "outputId": "1ab2b742-809c-400e-8d94-ff040d2d0570"
      },
      "execution_count": 41,
      "outputs": [
        {
          "output_type": "stream",
          "name": "stdout",
          "text": [
            "              Age   RestingBP  Cholesterol   FastingBS       MaxHR  \\\n",
            "count  918.000000  918.000000   918.000000  918.000000  918.000000   \n",
            "mean    53.510893  132.396514   198.799564    0.233115  136.809368   \n",
            "std      9.432617   18.514154   109.384145    0.423046   25.460334   \n",
            "min     28.000000    0.000000     0.000000    0.000000   60.000000   \n",
            "25%     47.000000  120.000000   173.250000    0.000000  120.000000   \n",
            "50%     54.000000  130.000000   223.000000    0.000000  138.000000   \n",
            "75%     60.000000  140.000000   267.000000    0.000000  156.000000   \n",
            "max     77.000000  200.000000   603.000000    1.000000  202.000000   \n",
            "\n",
            "          Oldpeak  HeartDisease  \n",
            "count  918.000000    918.000000  \n",
            "mean     0.887364      0.553377  \n",
            "std      1.066570      0.497414  \n",
            "min     -2.600000      0.000000  \n",
            "25%      0.000000      0.000000  \n",
            "50%      0.600000      1.000000  \n",
            "75%      1.500000      1.000000  \n",
            "max      6.200000      1.000000  \n"
          ]
        }
      ]
    },
    {
      "cell_type": "markdown",
      "source": [
        "###4.3 Valores ausentes"
      ],
      "metadata": {
        "id": "Fr3Ojqqt3ZzP"
      }
    },
    {
      "cell_type": "code",
      "source": [
        "# Verificar valores ausentes\n",
        "print(data.isnull().sum())"
      ],
      "metadata": {
        "colab": {
          "base_uri": "https://localhost:8080/"
        },
        "id": "VImzvy2Q3f7q",
        "outputId": "58e988b0-9846-47bc-860a-2b22be84f436"
      },
      "execution_count": 42,
      "outputs": [
        {
          "output_type": "stream",
          "name": "stdout",
          "text": [
            "Age               0\n",
            "Sex               0\n",
            "ChestPainType     0\n",
            "RestingBP         0\n",
            "Cholesterol       0\n",
            "FastingBS         0\n",
            "RestingECG        0\n",
            "MaxHR             0\n",
            "ExerciseAngina    0\n",
            "Oldpeak           0\n",
            "ST_Slope          0\n",
            "HeartDisease      0\n",
            "dtype: int64\n"
          ]
        }
      ]
    },
    {
      "cell_type": "markdown",
      "source": [
        "###4.4 Distribuição da variável alvo"
      ],
      "metadata": {
        "id": "eQpWsDLu3mRo"
      }
    },
    {
      "cell_type": "code",
      "source": [
        "# Distribuição da variável alvo\n",
        "print(data['HeartDisease'].value_counts())"
      ],
      "metadata": {
        "colab": {
          "base_uri": "https://localhost:8080/"
        },
        "id": "Pht7mNvT3twP",
        "outputId": "35ec02b3-f32a-4327-fc9c-cd90b81b6d97"
      },
      "execution_count": 43,
      "outputs": [
        {
          "output_type": "stream",
          "name": "stdout",
          "text": [
            "HeartDisease\n",
            "1    508\n",
            "0    410\n",
            "Name: count, dtype: int64\n"
          ]
        }
      ]
    },
    {
      "cell_type": "markdown",
      "source": [
        "##5.0 Pré-processamento de Dados"
      ],
      "metadata": {
        "id": "O5uu14eX4GhF"
      }
    },
    {
      "cell_type": "markdown",
      "source": [
        "###5.1 Tratamento de valores ausentes"
      ],
      "metadata": {
        "id": "mB-b0_Hf4YdL"
      }
    },
    {
      "cell_type": "code",
      "source": [
        "# Checa quais colunas são numéricas e quais não são\n",
        "numeric_cols = data.select_dtypes(include=[np.number]).columns\n",
        "non_numeric_cols = data.columns.difference(numeric_cols)\n",
        "\n",
        "# Preenche valores ausentes em colunas numéricas com a média\n",
        "data[numeric_cols] = data[numeric_cols].fillna(data[numeric_cols].mean())\n",
        "\n",
        "for col in non_numeric_cols:\n",
        "    data[col] = data[col].fillna(data[col].mode()[0])\n",
        "\n",
        "# Verifica o resultado\n",
        "print(data.head())\n"
      ],
      "metadata": {
        "colab": {
          "base_uri": "https://localhost:8080/"
        },
        "id": "7ckR7Ivb432L",
        "outputId": "e172a0cc-fc16-44c3-d8be-b5d16c92affd"
      },
      "execution_count": 44,
      "outputs": [
        {
          "output_type": "stream",
          "name": "stdout",
          "text": [
            "   Age Sex ChestPainType  RestingBP  Cholesterol  FastingBS RestingECG  MaxHR  \\\n",
            "0   40   M           ATA        140          289          0     Normal    172   \n",
            "1   49   F           NAP        160          180          0     Normal    156   \n",
            "2   37   M           ATA        130          283          0         ST     98   \n",
            "3   48   F           ASY        138          214          0     Normal    108   \n",
            "4   54   M           NAP        150          195          0     Normal    122   \n",
            "\n",
            "  ExerciseAngina  Oldpeak ST_Slope  HeartDisease  \n",
            "0              N      0.0       Up             0  \n",
            "1              N      1.0     Flat             1  \n",
            "2              N      0.0       Up             0  \n",
            "3              Y      1.5     Flat             1  \n",
            "4              N      0.0       Up             0  \n"
          ]
        }
      ]
    },
    {
      "cell_type": "markdown",
      "source": [
        "###5.2 Conversão de variáveis categóricas"
      ],
      "metadata": {
        "id": "TNJOvcMp5_6X"
      }
    },
    {
      "cell_type": "code",
      "source": [
        "# Conversão de variáveis categóricas usando get_dummies\n",
        "data = pd.get_dummies(data, drop_first=True)"
      ],
      "metadata": {
        "id": "v1oXafpQ6Hig"
      },
      "execution_count": 45,
      "outputs": []
    },
    {
      "cell_type": "markdown",
      "source": [
        "###5.3 Normalização das variáveis numéricas"
      ],
      "metadata": {
        "id": "VFib_K4b6LHw"
      }
    },
    {
      "cell_type": "code",
      "source": [
        "# Normalização das variáveis numéricas\n",
        "scaler = StandardScaler()\n",
        "features = ['Age', 'RestingBP', 'Cholesterol', 'MaxHR', 'Oldpeak']  # apenas exemplos de variáveis numéricas\n",
        "data[features] = scaler.fit_transform(data[features])"
      ],
      "metadata": {
        "id": "L1rtCU_P6Rcs"
      },
      "execution_count": 46,
      "outputs": []
    },
    {
      "cell_type": "code",
      "source": [
        "# Verifica o resultado\n",
        "print(data.head())"
      ],
      "metadata": {
        "colab": {
          "base_uri": "https://localhost:8080/"
        },
        "id": "KyxGgWg96a2t",
        "outputId": "a20def89-d5fc-4319-8833-3022ccfc2649"
      },
      "execution_count": 47,
      "outputs": [
        {
          "output_type": "stream",
          "name": "stdout",
          "text": [
            "        Age  RestingBP  Cholesterol  FastingBS     MaxHR   Oldpeak  \\\n",
            "0 -1.433140   0.410909     0.825070          0  1.382928 -0.832432   \n",
            "1 -0.478484   1.491752    -0.171961          0  0.754157  0.105664   \n",
            "2 -1.751359  -0.129513     0.770188          0 -1.525138 -0.832432   \n",
            "3 -0.584556   0.302825     0.139040          0 -1.132156  0.574711   \n",
            "4  0.051881   0.951331    -0.034755          0 -0.581981 -0.832432   \n",
            "\n",
            "   HeartDisease  Sex_M  ChestPainType_ATA  ChestPainType_NAP  \\\n",
            "0             0   True               True              False   \n",
            "1             1  False              False               True   \n",
            "2             0   True               True              False   \n",
            "3             1  False              False              False   \n",
            "4             0   True              False               True   \n",
            "\n",
            "   ChestPainType_TA  RestingECG_Normal  RestingECG_ST  ExerciseAngina_Y  \\\n",
            "0             False               True          False             False   \n",
            "1             False               True          False             False   \n",
            "2             False              False           True             False   \n",
            "3             False               True          False              True   \n",
            "4             False               True          False             False   \n",
            "\n",
            "   ST_Slope_Flat  ST_Slope_Up  \n",
            "0          False         True  \n",
            "1           True        False  \n",
            "2          False         True  \n",
            "3           True        False  \n",
            "4          False         True  \n"
          ]
        }
      ]
    },
    {
      "cell_type": "markdown",
      "source": [
        "## 6.0 Divisão dos dados em treino e teste"
      ],
      "metadata": {
        "id": "4pqBAsmd7REC"
      }
    },
    {
      "cell_type": "markdown",
      "source": [
        "#### 6.1 Divisão dos dados, validação cruzada e transformação dos dados"
      ],
      "metadata": {
        "id": "NpSKt_CN9-Te"
      }
    },
    {
      "cell_type": "code",
      "source": [
        "# Separando os dados em features (X) e target (y)\n",
        "X = data.drop(columns=['HeartDisease'])\n",
        "y = data['HeartDisease']\n",
        "\n",
        "# Divisão dos dados em treino e teste\n",
        "X_train, X_test, y_train, y_test = train_test_split(X, y, test_size=0.2, random_state=42)\n",
        "\n",
        "# Define o pipeline com padronização e modelo de Regressão Logística\n",
        "model = make_pipeline(StandardScaler(), LogisticRegression())\n",
        "\n",
        "# Calcula a validação cruzada do modelo com padronização\n",
        "cv_scores = cross_val_score(model, X_train, y_train, cv=5)\n",
        "\n",
        "# Mostra os scores da validação cruzada\n",
        "print(\"Scores da validação cruzada com padronização:\", cv_scores)\n",
        "print(\"Média dos scores:\", np.mean(cv_scores))\n",
        "\n"
      ],
      "metadata": {
        "colab": {
          "base_uri": "https://localhost:8080/"
        },
        "id": "grZC65nM7aHr",
        "outputId": "35696069-de2b-48f0-a0b3-3a95da5c5f9b"
      },
      "execution_count": 48,
      "outputs": [
        {
          "output_type": "stream",
          "name": "stdout",
          "text": [
            "Scores da validação cruzada com padronização: [0.88435374 0.87755102 0.86394558 0.82993197 0.85616438]\n",
            "Média dos scores: 0.8623893392973627\n"
          ]
        }
      ]
    },
    {
      "cell_type": "markdown",
      "source": [
        "## 7.0 Feature Selection"
      ],
      "metadata": {
        "id": "RvfhIMiG-lqb"
      }
    },
    {
      "cell_type": "code",
      "source": [
        "# Define o pipeline com padronização, PCA e modelo de Regressão Logística\n",
        "model = make_pipeline(StandardScaler(), PCA(n_components=5), LogisticRegression())\n",
        "\n",
        "# Calcula a validação cruzada do modelo com seleção de características usando PCA\n",
        "cv_scores = cross_val_score(model, X_train, y_train, cv=5)\n",
        "\n",
        "# Mostra os scores da validação cruzada\n",
        "print(\"Scores da validação cruzada com seleção de características usando PCA:\", cv_scores)\n",
        "print(\"Média dos scores:\", np.mean(cv_scores))\n"
      ],
      "metadata": {
        "colab": {
          "base_uri": "https://localhost:8080/"
        },
        "id": "UAX67wN5-qT-",
        "outputId": "020b623b-2eff-49e1-9052-0cc3310db4f0"
      },
      "execution_count": 49,
      "outputs": [
        {
          "output_type": "stream",
          "name": "stdout",
          "text": [
            "Scores da validação cruzada com seleção de características usando PCA: [0.89115646 0.89115646 0.84353741 0.81632653 0.84246575]\n",
            "Média dos scores: 0.8569285248345914\n"
          ]
        }
      ]
    },
    {
      "cell_type": "markdown",
      "source": [
        "## 8.0 Modelagem e treinamento"
      ],
      "metadata": {
        "id": "6xI9OzJmBt2r"
      }
    },
    {
      "cell_type": "markdown",
      "source": [
        "### 8.1 Ajuste de hirperparâmetros"
      ],
      "metadata": {
        "id": "OU4VSLW4B0fn"
      }
    },
    {
      "cell_type": "code",
      "source": [
        "# Define os hiperparâmetros a serem ajustados\n",
        "param_grid = {\n",
        "    'pca__n_components': [5, 10, 15],  # Testa diferentes números de componentes principais\n",
        "    'logisticregression__C': [0.1, 1.0, 10.0],  # Testa diferentes valores de regularização\n",
        "}\n",
        "\n",
        "# Inicializa o GridSearchCV\n",
        "grid_search = GridSearchCV(model, param_grid, cv=5)\n",
        "\n",
        "# Executa a busca de hiperparâmetros\n",
        "grid_search.fit(X_train, y_train)\n",
        "\n",
        "# Mostra os melhores hiperparâmetros encontrados\n",
        "print(\"Melhores hiperparâmetros:\", grid_search.best_params_)\n",
        "\n",
        "# Avalia o modelo com os melhores hiperparâmetros nos dados de teste\n",
        "best_model = grid_search.best_estimator_\n",
        "accuracy = best_model.score(X_test, y_test)\n",
        "print(\"Acurácia do modelo nos dados de teste:\", accuracy)\n"
      ],
      "metadata": {
        "colab": {
          "base_uri": "https://localhost:8080/"
        },
        "id": "6NtdZCh7CAWe",
        "outputId": "e65e4e56-d052-40d8-b6aa-9016dba1dfca"
      },
      "execution_count": 50,
      "outputs": [
        {
          "output_type": "stream",
          "name": "stdout",
          "text": [
            "Melhores hiperparâmetros: {'logisticregression__C': 1.0, 'pca__n_components': 10}\n",
            "Acurácia do modelo nos dados de teste: 0.8532608695652174\n"
          ]
        }
      ]
    },
    {
      "cell_type": "markdown",
      "source": [
        "### 8.2 Verifcando se há underfitting"
      ],
      "metadata": {
        "id": "y5ChWiIRChwE"
      }
    },
    {
      "cell_type": "code",
      "source": [
        "# Calcula a acurácia do modelo nos dados de treino\n",
        "train_accuracy = best_model.score(X_train, y_train)\n",
        "print(\"Acurácia do modelo nos dados de treino:\", train_accuracy)\n",
        "\n",
        "# Calcula a acurácia do modelo nos dados de teste\n",
        "test_accuracy = best_model.score(X_test, y_test)\n",
        "print(\"Acurácia do modelo nos dados de teste:\", test_accuracy)\n",
        "\n",
        "# Verifica se há underfitting\n",
        "if train_accuracy - test_accuracy < 0.05:\n",
        "    print(\"Não há indícios de underfitting.\")\n",
        "else:\n",
        "    print(\"Há indícios de underfitting.\")\n"
      ],
      "metadata": {
        "colab": {
          "base_uri": "https://localhost:8080/"
        },
        "id": "Y9T8zhApCsZ1",
        "outputId": "05169162-b7fb-4def-c243-ddac65e15f0a"
      },
      "execution_count": 51,
      "outputs": [
        {
          "output_type": "stream",
          "name": "stdout",
          "text": [
            "Acurácia do modelo nos dados de treino: 0.8746594005449592\n",
            "Acurácia do modelo nos dados de teste: 0.8532608695652174\n",
            "Não há indícios de underfitting.\n"
          ]
        }
      ]
    },
    {
      "cell_type": "markdown",
      "source": [
        "##9.0 Avaliação de Resultados"
      ],
      "metadata": {
        "id": "TwFvdKYZFCIf"
      }
    },
    {
      "cell_type": "markdown",
      "source": [
        "###9.1 Métricas de avaliação"
      ],
      "metadata": {
        "id": "yB6uM91eGCrQ"
      }
    },
    {
      "cell_type": "code",
      "source": [
        "# Avaliação do Modelo com os dados de teste\n",
        "# y_test são os rótulos verdadeiros, y_pred são as previsões do modelo\n",
        "\n",
        "# Acurácia\n",
        "accuracy = accuracy_score(y_test, y_pred)\n",
        "print(\"Acurácia do modelo:\", accuracy)\n",
        "\n",
        "# Precisão\n",
        "precision = precision_score(y_test, y_pred)\n",
        "print(\"Precisão do modelo:\", precision)\n",
        "\n",
        "# Revocação (Recall)\n",
        "recall = recall_score(y_test, y_pred)\n",
        "print(\"Revocação do modelo:\", recall)\n",
        "\n",
        "# F1-Score\n",
        "f1 = f1_score(y_test, y_pred)\n",
        "print(\"F1-Score do modelo:\", f1)\n",
        "\n",
        "# Relatório de Classificação\n",
        "print(\"\\nRelatório de Classificação:\")\n",
        "print(classification_report(y_test, y_pred))\n"
      ],
      "metadata": {
        "colab": {
          "base_uri": "https://localhost:8080/"
        },
        "id": "hyZl83MFFKzj",
        "outputId": "e91dc105-36cc-4475-aa85-923f0982b012"
      },
      "execution_count": 52,
      "outputs": [
        {
          "output_type": "stream",
          "name": "stdout",
          "text": [
            "Acurácia do modelo: 0.8532608695652174\n",
            "Precisão do modelo: 0.9\n",
            "Revocação do modelo: 0.8411214953271028\n",
            "F1-Score do modelo: 0.8695652173913043\n",
            "\n",
            "Relatório de Classificação:\n",
            "              precision    recall  f1-score   support\n",
            "\n",
            "           0       0.80      0.87      0.83        77\n",
            "           1       0.90      0.84      0.87       107\n",
            "\n",
            "    accuracy                           0.85       184\n",
            "   macro avg       0.85      0.86      0.85       184\n",
            "weighted avg       0.86      0.85      0.85       184\n",
            "\n"
          ]
        }
      ]
    },
    {
      "cell_type": "markdown",
      "source": [
        "###9.2 Treinando o modelo com o conjunto de dados"
      ],
      "metadata": {
        "id": "my0EAVGcF-CK"
      }
    },
    {
      "cell_type": "code",
      "source": [
        "# Combine os conjuntos de treinamento e teste\n",
        "X_combined = pd.concat([X_train, X_test], axis=0)\n",
        "y_combined = pd.concat([y_train, y_test], axis=0)\n",
        "\n",
        "# Inicialize e treine o modelo com todo o conjunto de dados combinado\n",
        "model_combined = LogisticRegression()\n",
        "model_combined.fit(X_combined, y_combined)\n",
        "\n",
        "# Avalie o modelo usando o conjunto de teste original\n",
        "y_test_pred_combined = model_combined.predict(X_test)\n",
        "accuracy_combined = accuracy_score(y_test, y_test_pred_combined)\n",
        "print(\"Acurácia do modelo treinado com todo o conjunto de dados:\", accuracy_combined)\n"
      ],
      "metadata": {
        "colab": {
          "base_uri": "https://localhost:8080/"
        },
        "id": "XMSU5hvKGU75",
        "outputId": "2f86eee3-46a8-4b45-a530-754ef550ec3c"
      },
      "execution_count": 53,
      "outputs": [
        {
          "output_type": "stream",
          "name": "stdout",
          "text": [
            "Acurácia do modelo treinado com todo o conjunto de dados: 0.8695652173913043\n"
          ]
        }
      ]
    },
    {
      "cell_type": "markdown",
      "source": [
        "A acurácia do modelo treinado com todo o conjunto de dados foi de aproximadamente 0.8696, o que indica que o modelo teve um bom desempenho na classificação dos dados de teste quando treinado com todos os dados disponíveis.\n",
        "\n",
        "Considerando que a acurácia do modelo treinado com todo o conjunto de dados foi ligeiramente maior do que a acurácia obtida com a divisão do conjunto de dados em treino e teste, é possível que haja um leve sinal de overfitting. No entanto, a diferença na acurácia entre o modelo treinado com todo o conjunto de dados e o modelo treinado com a divisão em treino e teste não é significativa, o que sugere que o overfitting pode não ser um problema grave neste caso."
      ],
      "metadata": {
        "id": "Z2u6WbTnGlMy"
      }
    },
    {
      "cell_type": "markdown",
      "source": [
        "## 10. Melhor solução encontrada"
      ],
      "metadata": {
        "id": "nBW1Qk7FIIEV"
      }
    },
    {
      "cell_type": "markdown",
      "source": [
        "####10.1\n",
        "Considerando todos os resultados apresentados, a melhor solução encontrada foi um modelo de Regressão Logística com PCA para seleção de características e ajuste de hiperparâmetros, que obteve um bom desempenho na classificação dos dados de teste.\n",
        "\n",
        "Resumo das etapas realizadas e seus resultados:\n",
        "\n",
        "- Pré-processamento de Dados:\n",
        "Os dados foram tratados para valores ausentes, convertidos para variáveis dummy e normalizados.\n",
        "- Divisão dos Dados em Treino e Teste:\n",
        "Os dados foram divididos em conjuntos de treino e teste.\n",
        "- Feature Selection:\n",
        "Foi utilizado PCA para seleção de características, reduzindo a dimensionalidade do conjunto de dados para 5 componentes principais.\n",
        "- Modelagem e Treinamento:\n",
        "Foi ajustado um modelo de Regressão Logística combinado com PCA e ajuste de hiperparâmetros utilizando GridSearchCV.\n",
        "Não foram observados sinais de underfitting nos dados de treino e teste.\n",
        "- Avaliação de Resultados:\n",
        "O modelo foi avaliado usando métricas de avaliação como acurácia, precisão, recall e F1-score.\n",
        "Foi treinado um modelo final utilizando todos os dados disponíveis e avaliado com o conjunto de teste original, obtendo uma acurácia de aproximadamente 0.8696.\n"
      ],
      "metadata": {
        "id": "dJFQu_GTIb5K"
      }
    }
  ]
}